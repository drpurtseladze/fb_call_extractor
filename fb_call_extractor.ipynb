{
 "cells": [
  {
   "cell_type": "code",
   "execution_count": 6,
   "id": "6f979e1f",
   "metadata": {},
   "outputs": [],
   "source": [
    "# Extracting call logs from facebook data\n",
    "# location of message_*.html files\n",
    "# for privacy reasons folder name replaces with \"namelastname\"\n",
    "\n",
    "path = 'D:/namelastname_10156896244312114'"
   ]
  },
  {
   "cell_type": "code",
   "execution_count": 32,
   "id": "dd3aa4da",
   "metadata": {},
   "outputs": [],
   "source": [
    "import glob\n",
    "import re\n",
    "import pandas"
   ]
  },
  {
   "cell_type": "code",
   "execution_count": 8,
   "id": "05123821",
   "metadata": {},
   "outputs": [],
   "source": [
    "files = glob.glob(path+'/*.html')"
   ]
  },
  {
   "cell_type": "code",
   "execution_count": 9,
   "id": "b30c2b20",
   "metadata": {},
   "outputs": [
    {
     "data": {
      "text/plain": [
       "['D:/namelastname_10156896244312114\\\\message_1.html',\n",
       " 'D:/namelastname_10156896244312114\\\\message_10.html',\n",
       " 'D:/namelastname_10156896244312114\\\\message_11.html',\n",
       " 'D:/namelastname_10156896244312114\\\\message_12.html',\n",
       " 'D:/namelastname_10156896244312114\\\\message_2.html',\n",
       " 'D:/namelastname_10156896244312114\\\\message_3.html',\n",
       " 'D:/namelastname_10156896244312114\\\\message_4.html',\n",
       " 'D:/namelastname_10156896244312114\\\\message_5.html',\n",
       " 'D:/namelastname_10156896244312114\\\\message_6.html',\n",
       " 'D:/namelastname_10156896244312114\\\\message_7.html',\n",
       " 'D:/namelastname_10156896244312114\\\\message_8.html',\n",
       " 'D:/namelastname_10156896244312114\\\\message_9.html']"
      ]
     },
     "execution_count": 9,
     "metadata": {},
     "output_type": "execute_result"
    }
   ],
   "source": [
    "files"
   ]
  },
  {
   "cell_type": "code",
   "execution_count": 10,
   "id": "b877b839",
   "metadata": {},
   "outputs": [],
   "source": [
    "from bs4 import BeautifulSoup"
   ]
  },
  {
   "cell_type": "code",
   "execution_count": 11,
   "id": "d2e73af7",
   "metadata": {},
   "outputs": [],
   "source": [
    "out = []\n",
    "for f in files:\n",
    "\n",
    "    with open(f, encoding=\"utf8\") as my_file:\n",
    "        s = str(my_file.read())\n",
    "    soup = BeautifulSoup(s, 'html.parser')\n",
    "    calls = soup.find_all('span',class_='_idm') \n",
    "    for c in calls:\n",
    "\n",
    "        date = c.find_next('div',class_='_a72d')\n",
    "        call_init = c.find_previous('div',class_='_2ph_ _a6-p')\n",
    "        tmp = call_init.get_text()\n",
    "\n",
    "        out.append((tmp[0:tmp.rfind('.')+1], c.get_text(),date.get_text() ))"
   ]
  },
  {
   "cell_type": "code",
   "execution_count": 12,
   "id": "7519682b",
   "metadata": {},
   "outputs": [],
   "source": [
    "import pandas as pd"
   ]
  },
  {
   "cell_type": "code",
   "execution_count": 16,
   "id": "74ff26fa",
   "metadata": {},
   "outputs": [],
   "source": [
    "df = pd.DataFrame(out)"
   ]
  },
  {
   "cell_type": "code",
   "execution_count": 24,
   "id": "1f748fb5",
   "metadata": {},
   "outputs": [
    {
     "data": {
      "text/html": [
       "<div>\n",
       "<style scoped>\n",
       "    .dataframe tbody tr th:only-of-type {\n",
       "        vertical-align: middle;\n",
       "    }\n",
       "\n",
       "    .dataframe tbody tr th {\n",
       "        vertical-align: top;\n",
       "    }\n",
       "\n",
       "    .dataframe thead th {\n",
       "        text-align: right;\n",
       "    }\n",
       "</style>\n",
       "<table border=\"1\" class=\"dataframe\">\n",
       "  <thead>\n",
       "    <tr style=\"text-align: right;\">\n",
       "      <th></th>\n",
       "      <th>0</th>\n",
       "      <th>1</th>\n",
       "      <th>2</th>\n",
       "    </tr>\n",
       "  </thead>\n",
       "  <tbody>\n",
       "    <tr>\n",
       "      <th>929</th>\n",
       "      <td>The video chat ended.</td>\n",
       "      <td>Duration: 28 minutes</td>\n",
       "      <td>Sep 09, 2020 10:49:34am</td>\n",
       "    </tr>\n",
       "    <tr>\n",
       "      <th>965</th>\n",
       "      <td>Name called you.</td>\n",
       "      <td>Duration: 41 minutes</td>\n",
       "      <td>Aug 25, 2020 2:14:13am</td>\n",
       "    </tr>\n",
       "    <tr>\n",
       "      <th>630</th>\n",
       "      <td>The video chat ended.</td>\n",
       "      <td>Duration: 24 minutes</td>\n",
       "      <td>Aug 10, 2021 3:58:16pm</td>\n",
       "    </tr>\n",
       "    <tr>\n",
       "      <th>963</th>\n",
       "      <td>You called Name.</td>\n",
       "      <td>Duration: 8 minutes</td>\n",
       "      <td>Aug 25, 2020 1:39:13pm</td>\n",
       "    </tr>\n",
       "    <tr>\n",
       "      <th>232</th>\n",
       "      <td>You called Name.</td>\n",
       "      <td>Duration: 1 minute</td>\n",
       "      <td>Jun 21, 2020 11:37:09am</td>\n",
       "    </tr>\n",
       "    <tr>\n",
       "      <th>754</th>\n",
       "      <td>You called Name.</td>\n",
       "      <td>Duration: 42 minutes</td>\n",
       "      <td>Feb 13, 2021 3:25:12am</td>\n",
       "    </tr>\n",
       "    <tr>\n",
       "      <th>451</th>\n",
       "      <td>The video chat ended.</td>\n",
       "      <td>Duration: 89 minutes</td>\n",
       "      <td>Nov 05, 2021 5:48:07am</td>\n",
       "    </tr>\n",
       "    <tr>\n",
       "      <th>159</th>\n",
       "      <td>Name called you.</td>\n",
       "      <td>Duration: 25 seconds</td>\n",
       "      <td>Jul 24, 2022 3:58:40pm</td>\n",
       "    </tr>\n",
       "    <tr>\n",
       "      <th>541</th>\n",
       "      <td>The video chat ended.</td>\n",
       "      <td>Duration: 29 minutes</td>\n",
       "      <td>Sep 18, 2021 2:27:26pm</td>\n",
       "    </tr>\n",
       "    <tr>\n",
       "      <th>897</th>\n",
       "      <td>The video chat ended.</td>\n",
       "      <td>Duration: 11 minutes</td>\n",
       "      <td>Sep 25, 2020 4:32:31pm</td>\n",
       "    </tr>\n",
       "  </tbody>\n",
       "</table>\n",
       "</div>"
      ],
      "text/plain": [
       "                         0                     1                        2\n",
       "929  The video chat ended.  Duration: 28 minutes  Sep 09, 2020 10:49:34am\n",
       "965       Name called you.  Duration: 41 minutes   Aug 25, 2020 2:14:13am\n",
       "630  The video chat ended.  Duration: 24 minutes   Aug 10, 2021 3:58:16pm\n",
       "963       You called Name.   Duration: 8 minutes   Aug 25, 2020 1:39:13pm\n",
       "232       You called Name.    Duration: 1 minute  Jun 21, 2020 11:37:09am\n",
       "754       You called Name.  Duration: 42 minutes   Feb 13, 2021 3:25:12am\n",
       "451  The video chat ended.  Duration: 89 minutes   Nov 05, 2021 5:48:07am\n",
       "159       Name called you.  Duration: 25 seconds   Jul 24, 2022 3:58:40pm\n",
       "541  The video chat ended.  Duration: 29 minutes   Sep 18, 2021 2:27:26pm\n",
       "897  The video chat ended.  Duration: 11 minutes   Sep 25, 2020 4:32:31pm"
      ]
     },
     "execution_count": 24,
     "metadata": {},
     "output_type": "execute_result"
    }
   ],
   "source": [
    "df.sample(10)"
   ]
  },
  {
   "cell_type": "code",
   "execution_count": 25,
   "id": "d3e4e7ad",
   "metadata": {},
   "outputs": [],
   "source": [
    "df.columns = ['Call','Duration','Date']\n",
    "df = df[['Date','Call','Duration']]\n",
    "df['Duration'] = df['Duration'].transform(lambda x: x.replace('Duration: ',''))"
   ]
  },
  {
   "cell_type": "code",
   "execution_count": 27,
   "id": "57bff28c",
   "metadata": {},
   "outputs": [],
   "source": [
    "df['_date'] = pd.to_datetime(df['Date'])"
   ]
  },
  {
   "cell_type": "code",
   "execution_count": 29,
   "id": "60e38aae",
   "metadata": {},
   "outputs": [],
   "source": [
    "# Duration is listed in either seconds or minutes\n",
    "\n",
    "df['m'] = df['Duration'].str.contains('minute')"
   ]
  },
  {
   "cell_type": "code",
   "execution_count": 45,
   "id": "af714507",
   "metadata": {},
   "outputs": [
    {
     "data": {
      "text/plain": [
       "939     120 minutes\n",
       "128       2 minutes\n",
       "874       2 minutes\n",
       "370       2 minutes\n",
       "277      31 minutes\n",
       "412        1 minute\n",
       "119      25 seconds\n",
       "767     109 minutes\n",
       "1003     36 minutes\n",
       "51       51 seconds\n",
       "Name: Duration, dtype: object"
      ]
     },
     "execution_count": 45,
     "metadata": {},
     "output_type": "execute_result"
    }
   ],
   "source": [
    "df['Duration'].sample(10)"
   ]
  },
  {
   "cell_type": "code",
   "execution_count": 33,
   "id": "c3cdf6f9",
   "metadata": {},
   "outputs": [],
   "source": [
    "# extract numerical values\n",
    "df['value']=df['Duration'].transform(lambda x: re.sub('[^0-9]', '', x)).astype(int)\n",
    "    "
   ]
  },
  {
   "cell_type": "code",
   "execution_count": 34,
   "id": "1fb6d49e",
   "metadata": {},
   "outputs": [
    {
     "data": {
      "text/html": [
       "<div>\n",
       "<style scoped>\n",
       "    .dataframe tbody tr th:only-of-type {\n",
       "        vertical-align: middle;\n",
       "    }\n",
       "\n",
       "    .dataframe tbody tr th {\n",
       "        vertical-align: top;\n",
       "    }\n",
       "\n",
       "    .dataframe thead th {\n",
       "        text-align: right;\n",
       "    }\n",
       "</style>\n",
       "<table border=\"1\" class=\"dataframe\">\n",
       "  <thead>\n",
       "    <tr style=\"text-align: right;\">\n",
       "      <th></th>\n",
       "      <th>Call</th>\n",
       "      <th>Duration</th>\n",
       "      <th>Date</th>\n",
       "      <th>_date</th>\n",
       "      <th>m</th>\n",
       "      <th>value</th>\n",
       "    </tr>\n",
       "  </thead>\n",
       "  <tbody>\n",
       "    <tr>\n",
       "      <th>490</th>\n",
       "      <td>The video chat ended.</td>\n",
       "      <td>3 minutes</td>\n",
       "      <td>Oct 13, 2021 11:23:45am</td>\n",
       "      <td>2021-10-13 11:23:45</td>\n",
       "      <td>True</td>\n",
       "      <td>3</td>\n",
       "    </tr>\n",
       "    <tr>\n",
       "      <th>460</th>\n",
       "      <td>The video chat ended.</td>\n",
       "      <td>7 minutes</td>\n",
       "      <td>Oct 30, 2021 11:00:02am</td>\n",
       "      <td>2021-10-30 11:00:02</td>\n",
       "      <td>True</td>\n",
       "      <td>7</td>\n",
       "    </tr>\n",
       "    <tr>\n",
       "      <th>510</th>\n",
       "      <td>You called Name.</td>\n",
       "      <td>1 minute</td>\n",
       "      <td>Sep 27, 2021 12:10:42pm</td>\n",
       "      <td>2021-09-27 12:10:42</td>\n",
       "      <td>True</td>\n",
       "      <td>1</td>\n",
       "    </tr>\n",
       "    <tr>\n",
       "      <th>127</th>\n",
       "      <td>You called Name.</td>\n",
       "      <td>8 seconds</td>\n",
       "      <td>Aug 30, 2022 5:58:50pm</td>\n",
       "      <td>2022-08-30 17:58:50</td>\n",
       "      <td>False</td>\n",
       "      <td>8</td>\n",
       "    </tr>\n",
       "    <tr>\n",
       "      <th>99</th>\n",
       "      <td>The video chat ended.</td>\n",
       "      <td>56 seconds</td>\n",
       "      <td>Oct 16, 2022 4:13:50pm</td>\n",
       "      <td>2022-10-16 16:13:50</td>\n",
       "      <td>False</td>\n",
       "      <td>56</td>\n",
       "    </tr>\n",
       "    <tr>\n",
       "      <th>775</th>\n",
       "      <td>The video chat ended.</td>\n",
       "      <td>121 minutes</td>\n",
       "      <td>Jan 25, 2021 5:58:42pm</td>\n",
       "      <td>2021-01-25 17:58:42</td>\n",
       "      <td>True</td>\n",
       "      <td>121</td>\n",
       "    </tr>\n",
       "    <tr>\n",
       "      <th>245</th>\n",
       "      <td>The video chat ended.</td>\n",
       "      <td>39 minutes</td>\n",
       "      <td>Jun 08, 2020 1:37:43am</td>\n",
       "      <td>2020-06-08 01:37:43</td>\n",
       "      <td>True</td>\n",
       "      <td>39</td>\n",
       "    </tr>\n",
       "    <tr>\n",
       "      <th>643</th>\n",
       "      <td>The video chat ended.</td>\n",
       "      <td>9 minutes</td>\n",
       "      <td>Aug 03, 2021 7:13:33pm</td>\n",
       "      <td>2021-08-03 19:13:33</td>\n",
       "      <td>True</td>\n",
       "      <td>9</td>\n",
       "    </tr>\n",
       "    <tr>\n",
       "      <th>982</th>\n",
       "      <td>Name called you.</td>\n",
       "      <td>15 seconds</td>\n",
       "      <td>Aug 20, 2020 8:39:28pm</td>\n",
       "      <td>2020-08-20 20:39:28</td>\n",
       "      <td>False</td>\n",
       "      <td>15</td>\n",
       "    </tr>\n",
       "    <tr>\n",
       "      <th>70</th>\n",
       "      <td>You called Name.</td>\n",
       "      <td>35 seconds</td>\n",
       "      <td>Nov 26, 2022 9:13:18pm</td>\n",
       "      <td>2022-11-26 21:13:18</td>\n",
       "      <td>False</td>\n",
       "      <td>35</td>\n",
       "    </tr>\n",
       "  </tbody>\n",
       "</table>\n",
       "</div>"
      ],
      "text/plain": [
       "                      Call     Duration                     Date  \\\n",
       "490  The video chat ended.    3 minutes  Oct 13, 2021 11:23:45am   \n",
       "460  The video chat ended.    7 minutes  Oct 30, 2021 11:00:02am   \n",
       "510       You called Name.     1 minute  Sep 27, 2021 12:10:42pm   \n",
       "127       You called Name.    8 seconds   Aug 30, 2022 5:58:50pm   \n",
       "99   The video chat ended.   56 seconds   Oct 16, 2022 4:13:50pm   \n",
       "775  The video chat ended.  121 minutes   Jan 25, 2021 5:58:42pm   \n",
       "245  The video chat ended.   39 minutes   Jun 08, 2020 1:37:43am   \n",
       "643  The video chat ended.    9 minutes   Aug 03, 2021 7:13:33pm   \n",
       "982       Name called you.   15 seconds   Aug 20, 2020 8:39:28pm   \n",
       "70        You called Name.   35 seconds   Nov 26, 2022 9:13:18pm   \n",
       "\n",
       "                  _date      m  value  \n",
       "490 2021-10-13 11:23:45   True      3  \n",
       "460 2021-10-30 11:00:02   True      7  \n",
       "510 2021-09-27 12:10:42   True      1  \n",
       "127 2022-08-30 17:58:50  False      8  \n",
       "99  2022-10-16 16:13:50  False     56  \n",
       "775 2021-01-25 17:58:42   True    121  \n",
       "245 2020-06-08 01:37:43   True     39  \n",
       "643 2021-08-03 19:13:33   True      9  \n",
       "982 2020-08-20 20:39:28  False     15  \n",
       "70  2022-11-26 21:13:18  False     35  "
      ]
     },
     "execution_count": 34,
     "metadata": {},
     "output_type": "execute_result"
    }
   ],
   "source": [
    "df.sample(10)"
   ]
  },
  {
   "cell_type": "code",
   "execution_count": 35,
   "id": "3f9f7be1",
   "metadata": {},
   "outputs": [],
   "source": [
    "# calculate total in seconds\n",
    "total = 0\n",
    "for m, v in zip(df['m'], df['value']):\n",
    "    if m:\n",
    "        total = total+v\n",
    "    else:\n",
    "        total = total+v*60"
   ]
  },
  {
   "cell_type": "code",
   "execution_count": 36,
   "id": "498fb10f",
   "metadata": {},
   "outputs": [
    {
     "data": {
      "text/plain": [
       "442005"
      ]
     },
     "execution_count": 36,
     "metadata": {},
     "output_type": "execute_result"
    }
   ],
   "source": [
    "total"
   ]
  },
  {
   "cell_type": "code",
   "execution_count": 37,
   "id": "5cdecc1f",
   "metadata": {},
   "outputs": [],
   "source": [
    "import datetime"
   ]
  },
  {
   "cell_type": "code",
   "execution_count": 46,
   "id": "54c23485",
   "metadata": {},
   "outputs": [
    {
     "name": "stdout",
     "output_type": "stream",
     "text": [
      "Total: 5 days, 2:46:45\n"
     ]
    }
   ],
   "source": [
    "print('Total:', datetime.timedelta(seconds=total))"
   ]
  },
  {
   "cell_type": "code",
   "execution_count": 39,
   "id": "1ae6b9c0",
   "metadata": {},
   "outputs": [],
   "source": [
    "# filter calls with duration>1 minutes\n",
    "mdf = df[df['m']]"
   ]
  },
  {
   "cell_type": "code",
   "execution_count": 40,
   "id": "229cd2e2",
   "metadata": {},
   "outputs": [],
   "source": [
    "# filter calls with duration >=10 minutes\n",
    "mdf = mdf[mdf['value']>=10]"
   ]
  },
  {
   "cell_type": "code",
   "execution_count": 41,
   "id": "6e652169",
   "metadata": {},
   "outputs": [],
   "source": [
    "mdf = mdf.sort_values(by='_date')[['Date','Call','Duration']]"
   ]
  },
  {
   "cell_type": "code",
   "execution_count": 43,
   "id": "b5fc7956",
   "metadata": {},
   "outputs": [
    {
     "data": {
      "text/html": [
       "<div>\n",
       "<style scoped>\n",
       "    .dataframe tbody tr th:only-of-type {\n",
       "        vertical-align: middle;\n",
       "    }\n",
       "\n",
       "    .dataframe tbody tr th {\n",
       "        vertical-align: top;\n",
       "    }\n",
       "\n",
       "    .dataframe thead th {\n",
       "        text-align: right;\n",
       "    }\n",
       "</style>\n",
       "<table border=\"1\" class=\"dataframe\">\n",
       "  <thead>\n",
       "    <tr style=\"text-align: right;\">\n",
       "      <th></th>\n",
       "      <th>Date</th>\n",
       "      <th>Call</th>\n",
       "      <th>Duration</th>\n",
       "    </tr>\n",
       "  </thead>\n",
       "  <tbody>\n",
       "    <tr>\n",
       "      <th>836</th>\n",
       "      <td>Dec 11, 2020 2:05:51pm</td>\n",
       "      <td>The video chat ended.</td>\n",
       "      <td>37 minutes</td>\n",
       "    </tr>\n",
       "    <tr>\n",
       "      <th>274</th>\n",
       "      <td>May 08, 2020 1:40:12am</td>\n",
       "      <td>The video chat ended.</td>\n",
       "      <td>19 minutes</td>\n",
       "    </tr>\n",
       "    <tr>\n",
       "      <th>520</th>\n",
       "      <td>Sep 21, 2021 8:24:44pm</td>\n",
       "      <td>The video chat ended.</td>\n",
       "      <td>14 minutes</td>\n",
       "    </tr>\n",
       "    <tr>\n",
       "      <th>772</th>\n",
       "      <td>Jan 28, 2021 12:16:59am</td>\n",
       "      <td>The video chat ended.</td>\n",
       "      <td>66 minutes</td>\n",
       "    </tr>\n",
       "    <tr>\n",
       "      <th>852</th>\n",
       "      <td>Nov 24, 2020 12:49:13pm</td>\n",
       "      <td>You called Name.</td>\n",
       "      <td>35 minutes</td>\n",
       "    </tr>\n",
       "    <tr>\n",
       "      <th>439</th>\n",
       "      <td>Nov 16, 2021 2:10:15am</td>\n",
       "      <td>Name called you.</td>\n",
       "      <td>25 minutes</td>\n",
       "    </tr>\n",
       "    <tr>\n",
       "      <th>875</th>\n",
       "      <td>Oct 28, 2020 11:16:02pm</td>\n",
       "      <td>You called Name.</td>\n",
       "      <td>41 minutes</td>\n",
       "    </tr>\n",
       "    <tr>\n",
       "      <th>313</th>\n",
       "      <td>Apr 07, 2020 3:07:20pm</td>\n",
       "      <td>The video chat ended.</td>\n",
       "      <td>72 minutes</td>\n",
       "    </tr>\n",
       "    <tr>\n",
       "      <th>896</th>\n",
       "      <td>Sep 25, 2020 5:02:34pm</td>\n",
       "      <td>The video chat ended.</td>\n",
       "      <td>26 minutes</td>\n",
       "    </tr>\n",
       "    <tr>\n",
       "      <th>600</th>\n",
       "      <td>Aug 20, 2021 11:47:29pm</td>\n",
       "      <td>The video chat ended.</td>\n",
       "      <td>83 minutes</td>\n",
       "    </tr>\n",
       "  </tbody>\n",
       "</table>\n",
       "</div>"
      ],
      "text/plain": [
       "                        Date                   Call    Duration\n",
       "836   Dec 11, 2020 2:05:51pm  The video chat ended.  37 minutes\n",
       "274   May 08, 2020 1:40:12am  The video chat ended.  19 minutes\n",
       "520   Sep 21, 2021 8:24:44pm  The video chat ended.  14 minutes\n",
       "772  Jan 28, 2021 12:16:59am  The video chat ended.  66 minutes\n",
       "852  Nov 24, 2020 12:49:13pm       You called Name.  35 minutes\n",
       "439   Nov 16, 2021 2:10:15am       Name called you.  25 minutes\n",
       "875  Oct 28, 2020 11:16:02pm       You called Name.  41 minutes\n",
       "313   Apr 07, 2020 3:07:20pm  The video chat ended.  72 minutes\n",
       "896   Sep 25, 2020 5:02:34pm  The video chat ended.  26 minutes\n",
       "600  Aug 20, 2021 11:47:29pm  The video chat ended.  83 minutes"
      ]
     },
     "execution_count": 43,
     "metadata": {},
     "output_type": "execute_result"
    }
   ],
   "source": [
    "mdf.sample(10)"
   ]
  },
  {
   "cell_type": "code",
   "execution_count": 163,
   "id": "5002b350",
   "metadata": {},
   "outputs": [],
   "source": [
    "mdf.to_csv('messenger_call_logs.csv',index=False)"
   ]
  }
 ],
 "metadata": {
  "kernelspec": {
   "display_name": "Python 3 (ipykernel)",
   "language": "python",
   "name": "python3"
  },
  "language_info": {
   "codemirror_mode": {
    "name": "ipython",
    "version": 3
   },
   "file_extension": ".py",
   "mimetype": "text/x-python",
   "name": "python",
   "nbconvert_exporter": "python",
   "pygments_lexer": "ipython3",
   "version": "3.9.12"
  }
 },
 "nbformat": 4,
 "nbformat_minor": 5
}
